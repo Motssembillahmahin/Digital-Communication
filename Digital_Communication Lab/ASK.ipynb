{
 "cells": [
  {
   "cell_type": "code",
   "execution_count": 16,
   "id": "73bb6e7f",
   "metadata": {},
   "outputs": [
    {
     "ename": "ValueError",
     "evalue": "operands could not be broadcast together with shapes (1000000,) (1000,) ",
     "output_type": "error",
     "traceback": [
      "\u001b[1;31m---------------------------------------------------------------------------\u001b[0m",
      "\u001b[1;31mValueError\u001b[0m                                Traceback (most recent call last)",
      "\u001b[1;32m~\\AppData\\Local\\Temp\\ipykernel_10392\\1420507156.py\u001b[0m in \u001b[0;36m<module>\u001b[1;34m\u001b[0m\n\u001b[0;32m     22\u001b[0m \u001b[1;33m\u001b[0m\u001b[0m\n\u001b[0;32m     23\u001b[0m \u001b[1;31m# ASK Modulation\u001b[0m\u001b[1;33m\u001b[0m\u001b[1;33m\u001b[0m\u001b[0m\n\u001b[1;32m---> 24\u001b[1;33m \u001b[0mmodulated_signal\u001b[0m \u001b[1;33m=\u001b[0m \u001b[1;33m(\u001b[0m\u001b[0mmessage_signal\u001b[0m \u001b[1;33m*\u001b[0m \u001b[1;36m2\u001b[0m \u001b[1;33m-\u001b[0m \u001b[1;36m1\u001b[0m\u001b[1;33m)\u001b[0m \u001b[1;33m*\u001b[0m \u001b[0mexpanded_carrier_signal\u001b[0m\u001b[1;33m\u001b[0m\u001b[1;33m\u001b[0m\u001b[0m\n\u001b[0m\u001b[0;32m     25\u001b[0m \u001b[1;33m\u001b[0m\u001b[0m\n\u001b[0;32m     26\u001b[0m \u001b[1;31m# ASK Demodulation\u001b[0m\u001b[1;33m\u001b[0m\u001b[1;33m\u001b[0m\u001b[0m\n",
      "\u001b[1;31mValueError\u001b[0m: operands could not be broadcast together with shapes (1000000,) (1000,) "
     ]
    }
   ],
   "source": [
    "import numpy as np\n",
    "import matplotlib.pyplot as plt\n",
    "\n",
    "# Parameters\n",
    "sampling_rate = 1000  # Sampling rate in Hz\n",
    "carrier_freq = 10    # Frequency of the carrier signal in Hz\n",
    "bit_rate = 2         # Bit rate in bits per second\n",
    "\n",
    "# Time values\n",
    "t = np.arange(0, 1, 1 / sampling_rate)\n",
    "\n",
    "# Message signal (binary data)\n",
    "message_bits = np.random.randint(0, 2, int(len(t) * bit_rate))\n",
    "message_signal = np.repeat(message_bits, int(sampling_rate / bit_rate))\n",
    "\n",
    "# Carrier signal\n",
    "carrier_signal = np.sin(2 * np.pi * carrier_freq * t)\n",
    "\n",
    "# Make carrier signal match the length of the message signal\n",
    "num_repeats = int(len(t) / len(carrier_signal))\n",
    "expanded_carrier_signal = np.tile(carrier_signal, num_repeats*2)[:len(t*t)]\n",
    "\n",
    "# ASK Modulation\n",
    "modulated_signal = (message_signal * 2 - 1) * expanded_carrier_signal\n",
    "\n",
    "# ASK Demodulation\n",
    "demodulated_signal = modulated_signal * expanded_carrier_signal\n",
    "\n",
    "# Filtered Demodulation\n",
    "filter_window = np.ones(int(sampling_rate / bit_rate))\n",
    "filtered_demodulated_signal = np.convolve(demodulated_signal, filter_window, mode='same') / len(filter_window)\n",
    "\n",
    "# Plotting\n",
    "plt.figure(figsize=(10, 8))\n",
    "\n",
    "plt.subplot(4, 1, 1)\n",
    "plt.plot(t, message_signal)\n",
    "plt.title('Message Signal')\n",
    "\n",
    "plt.subplot(4, 1, 2)\n",
    "plt.plot(t, modulated_signal)\n",
    "plt.title('Modulated Signal')\n",
    "\n",
    "plt.subplot(4, 1, 3)\n",
    "plt.plot(t, demodulated_signal)\n",
    "plt.title('Demodulated Signal (before filtering)')\n",
    "\n",
    "plt.subplot(4, 1, 4)\n",
    "plt.plot(t, filtered_demodulated_signal)\n",
    "plt.title('Demodulated and Filtered Signal')\n",
    "\n",
    "plt.tight_layout()\n",
    "plt.show()\n",
    "\n"
   ]
  },
  {
   "cell_type": "code",
   "execution_count": null,
   "id": "8f4c18af",
   "metadata": {},
   "outputs": [],
   "source": []
  }
 ],
 "metadata": {
  "kernelspec": {
   "display_name": "Python 3 (ipykernel)",
   "language": "python",
   "name": "python3"
  },
  "language_info": {
   "codemirror_mode": {
    "name": "ipython",
    "version": 3
   },
   "file_extension": ".py",
   "mimetype": "text/x-python",
   "name": "python",
   "nbconvert_exporter": "python",
   "pygments_lexer": "ipython3",
   "version": "3.9.13"
  }
 },
 "nbformat": 4,
 "nbformat_minor": 5
}
