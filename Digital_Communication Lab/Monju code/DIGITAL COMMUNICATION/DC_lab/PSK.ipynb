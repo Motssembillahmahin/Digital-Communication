{
 "cells": [
  {
   "cell_type": "code",
   "execution_count": 1,
   "id": "4fdeebd2",
   "metadata": {},
   "outputs": [
    {
     "name": "stdout",
     "output_type": "stream",
     "text": [
      "Input Bits: [1, 0, 0, 1, 1, 1, 0, 0, 0, 1, 1, 0]\n",
      "Modulated Symbols: [(1-1j), (-1+1j), (1+1j), (-1-1j), (-1+1j), (1-1j)]\n",
      "Demodulated Bits: [1, 0, 0, 1, 1, 1, 0, 0, 0, 1, 1, 0]\n"
     ]
    }
   ],
   "source": [
    "import numpy as np\n",
    "import matplotlib.pyplot as plt\n",
    "\n",
    "def qpsk_modulation(bits):\n",
    "    symbols = []\n",
    "    for i in range(0, len(bits), 2):\n",
    "        real = 2 * bits[i] - 1\n",
    "        imag = 2 * bits[i+1] - 1\n",
    "        symbols.append(complex(real, imag))\n",
    "    return symbols\n",
    "\n",
    "def qpsk_demodulation(symbols):\n",
    "    bits = []\n",
    "    for s in symbols:\n",
    "        bits.append(1 if s.real > 0 else 0)\n",
    "        bits.append(1 if s.imag > 0 else 0)\n",
    "    return bits\n",
    "\n",
    "# Example usage\n",
    "if __name__ == \"__main__\":\n",
    "    # Input bits\n",
    "    input_bits = [1, 0, 0, 1, 1, 1, 0, 0, 0, 1, 1, 0]\n",
    "    \n",
    "    # QPSK Modulation\n",
    "    modulated_symbols = qpsk_modulation(input_bits)\n",
    "    \n",
    "    # QPSK Demodulation\n",
    "    demodulated_bits = qpsk_demodulation(modulated_symbols)\n",
    "    \n",
    "    print(\"Input Bits:\", input_bits)\n",
    "    print(\"Modulated Symbols:\", modulated_symbols)\n",
    "    print(\"Demodulated Bits:\", demodulated_bits)\n"
   ]
  },
  {
   "cell_type": "code",
   "execution_count": null,
   "id": "5a89274a",
   "metadata": {},
   "outputs": [],
   "source": []
  }
 ],
 "metadata": {
  "kernelspec": {
   "display_name": "Python 3 (ipykernel)",
   "language": "python",
   "name": "python3"
  },
  "language_info": {
   "codemirror_mode": {
    "name": "ipython",
    "version": 3
   },
   "file_extension": ".py",
   "mimetype": "text/x-python",
   "name": "python",
   "nbconvert_exporter": "python",
   "pygments_lexer": "ipython3",
   "version": "3.9.13"
  }
 },
 "nbformat": 4,
 "nbformat_minor": 5
}
